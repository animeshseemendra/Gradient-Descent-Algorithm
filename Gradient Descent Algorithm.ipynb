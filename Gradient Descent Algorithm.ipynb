{
 "cells": [
  {
   "cell_type": "code",
   "execution_count": 9,
   "metadata": {},
   "outputs": [],
   "source": [
    "import numpy as np"
   ]
  },
  {
   "cell_type": "code",
   "execution_count": 12,
   "metadata": {},
   "outputs": [],
   "source": [
    "#sigmoid function\n",
    "def sigmoid(x):\n",
    "    return (1/(1+exp(-x)))\n",
    "#output formula\n",
    "def output(weights,features,bias):\n",
    "    return(sigmoid(np.dot(weights,features)+bias))\n",
    "#error formula\n",
    "def error(y,output):\n",
    "    return(-y*np.log(output)-(1-y)*np.log(1-output))\n",
    "#update weights\n",
    "def update_weights(X,y,weights,bias,learnrate):\n",
    "    output=output_formula(x,weights,bias)\n",
    "    weights[0]=weights[0]+learnrate*(y-output)*x[0]\n",
    "    weights[1]=weights[1]+learnrate*(y-output)*x[1]\n",
    "    bias=bias+learnrate*(y-output)\n",
    "    return (weights,bias)"
   ]
  },
  {
   "cell_type": "code",
   "execution_count": 14,
   "metadata": {},
   "outputs": [],
   "source": [
    "np.random.seed(44)\n",
    "#train algorithm\n",
    "def train(features, targets, epochs=100, learnrate=0.01):\n",
    "    n_records, n_features = features.shape\n",
    "    weights = np.random.normal(scale=1 / n_features**.5, size=n_features)\n",
    "    bias = 0\n",
    "    for e in range(epochs):\n",
    "        for x, y in zip(features, targets):\n",
    "            output = output_formula(x, weights, bias)\n",
    "            error = error_formula(y, output)\n",
    "            weights, bias = update_weights(x, y, weights, bias, learnrate)"
   ]
  },
  {
   "cell_type": "code",
   "execution_count": null,
   "metadata": {},
   "outputs": [],
   "source": []
  }
 ],
 "metadata": {
  "kernelspec": {
   "display_name": "Python 3",
   "language": "python",
   "name": "python3"
  },
  "language_info": {
   "codemirror_mode": {
    "name": "ipython",
    "version": 3
   },
   "file_extension": ".py",
   "mimetype": "text/x-python",
   "name": "python",
   "nbconvert_exporter": "python",
   "pygments_lexer": "ipython3",
   "version": "3.6.4"
  }
 },
 "nbformat": 4,
 "nbformat_minor": 2
}
